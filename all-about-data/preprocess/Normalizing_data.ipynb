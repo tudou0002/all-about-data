{
  "nbformat": 4,
  "nbformat_minor": 0,
  "metadata": {
    "colab": {
      "name": "Normalizing_data.ipynb",
      "provenance": [],
      "collapsed_sections": []
    },
    "kernelspec": {
      "name": "python3",
      "display_name": "Python 3"
    }
  },
  "cells": [
    {
      "cell_type": "markdown",
      "metadata": {
        "id": "8o7xgtJgGSsH",
        "colab_type": "text"
      },
      "source": [
        "# Transformation\n",
        "- smoothe the data: remove the noise in the data by clustering or regression\n",
        "- generalize the data\n",
        "- normalize the data: min-maz, z-score, etc\n",
        "- feature engineering: create new features by existing features.\n",
        "\n",
        "We use sklearn to normalize our data.\n",
        "### 1.Min-max\n",
        "Transfering the data so that the new range is [0,1]  \n",
        "$newData = \\frac{original-min}{max-min}$"
      ]
    },
    {
      "cell_type": "code",
      "metadata": {
        "id": "L3EHqXKBI20a",
        "colab_type": "code",
        "colab": {
          "base_uri": "https://localhost:8080/",
          "height": 70
        },
        "outputId": "cb1a2f0d-4b61-4bd1-d9d7-1ed2e6e14ca4"
      },
      "source": [
        "from sklearn import preprocessing\n",
        "import numpy as np\n",
        "# initialize the data, each row is a sample, each column is a feature\n",
        "x = np.array([[0., -3., 1.],\n",
        "             [3., 1., 2.],\n",
        "             [0., 1., -1.]])\n",
        "min_max_scaler = preprocessing.MinMaxScaler()\n",
        "minmax_x = min_max_scaler.fit_transform(x)\n",
        "print (minmax_x)"
      ],
      "execution_count": 4,
      "outputs": [
        {
          "output_type": "stream",
          "text": [
            "[[0.         0.         0.66666667]\n",
            " [1.         1.         1.        ]\n",
            " [0.         1.         0.        ]]\n"
          ],
          "name": "stdout"
        }
      ]
    },
    {
      "cell_type": "markdown",
      "metadata": {
        "id": "e1kOA9CrH_c4",
        "colab_type": "text"
      },
      "source": [
        "### 2. Z-score\n",
        "$Z = \\frac{original - \\mu }{\\sigma}$"
      ]
    },
    {
      "cell_type": "code",
      "metadata": {
        "id": "pJGcZ4l5J--A",
        "colab_type": "code",
        "colab": {
          "base_uri": "https://localhost:8080/",
          "height": 70
        },
        "outputId": "55b1b999-918e-4ec0-c3f4-0b9cc17b78e5"
      },
      "source": [
        "y = np.array([[0., -3., 1.],\n",
        "             [3., 1., 2.],\n",
        "             [0., 1., -1.]])\n",
        "z_scale = preprocessing.scale(y)\n",
        "print (z_scale)"
      ],
      "execution_count": 7,
      "outputs": [
        {
          "output_type": "stream",
          "text": [
            "[[-0.70710678 -1.41421356  0.26726124]\n",
            " [ 1.41421356  0.70710678  1.06904497]\n",
            " [-0.70710678  0.70710678 -1.33630621]]\n"
          ],
          "name": "stdout"
        }
      ]
    },
    {
      "cell_type": "markdown",
      "metadata": {
        "id": "7footaU5IYpc",
        "colab_type": "text"
      },
      "source": [
        "### 3. Moving the float point\n",
        "Depend on the maximum absolute value."
      ]
    },
    {
      "cell_type": "code",
      "metadata": {
        "id": "A-yil_QQKiZf",
        "colab_type": "code",
        "colab": {
          "base_uri": "https://localhost:8080/",
          "height": 70
        },
        "outputId": "75e922ed-31a4-469a-9127-01fc70589361"
      },
      "source": [
        "z = np.array([[0., -30., 1.],\n",
        "             [3., 12., 2.],\n",
        "             [0.99, 1., -1.]])\n",
        "i = np.ceil(np.log10(np.max(abs(z))))\n",
        "scaled_z = z/(10**i)\n",
        "print (scaled_z)"
      ],
      "execution_count": 8,
      "outputs": [
        {
          "output_type": "stream",
          "text": [
            "[[ 0.     -0.3     0.01  ]\n",
            " [ 0.03    0.12    0.02  ]\n",
            " [ 0.0099  0.01   -0.01  ]]\n"
          ],
          "name": "stdout"
        }
      ]
    }
  ]
}